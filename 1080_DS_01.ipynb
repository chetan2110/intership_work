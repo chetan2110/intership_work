{
  "nbformat": 4,
  "nbformat_minor": 0,
  "metadata": {
    "colab": {
      "provenance": []
    },
    "kernelspec": {
      "name": "python3",
      "display_name": "Python 3"
    },
    "language_info": {
      "name": "python"
    }
  },
  "cells": [
    {
      "cell_type": "code",
      "source": [
        "# Reg.No : 1080\n",
        "# Name : K Chetan\n",
        "# Date : 13/10/2022"
      ],
      "metadata": {
        "id": "diMe-aBUIGsc"
      },
      "execution_count": 66,
      "outputs": []
    },
    {
      "cell_type": "code",
      "execution_count": 1,
      "metadata": {
        "id": "MKkrUnEuRJCr"
      },
      "outputs": [],
      "source": [
        "import pandas as pd\n",
        "import numpy as np\n",
        "import matplotlib.pyplot as plt\n"
      ]
    },
    {
      "cell_type": "code",
      "source": [
        "mydata = pd.read_csv(\"/content/Enrollments_28092022.csv\")\n",
        "mydata"
      ],
      "metadata": {
        "colab": {
          "base_uri": "https://localhost:8080/",
          "height": 424
        },
        "id": "yI5IoN8WRt1c",
        "outputId": "4711f46e-870e-4af6-e47f-65653257926a"
      },
      "execution_count": 2,
      "outputs": [
        {
          "output_type": "execute_result",
          "data": {
            "text/plain": [
              "     StudentNo  DEGREE  INTERMEDIATE   SSC                      INTERNSHIP\n",
              "0         1001    8.10          76.0  92.0                    Data Science\n",
              "1         1002    8.10          76.0  92.0      MEAN Stack Web Development\n",
              "2         1003    7.80          94.6  92.0      MEAN Stack Web Development\n",
              "3         1004    9.03          89.5  89.0                    Data Science\n",
              "4         1005    8.38          87.0  90.0      MEAN Stack Web Development\n",
              "..         ...     ...           ...   ...                             ...\n",
              "292       2188    8.70          94.1  93.0                    Data Science\n",
              "293       2189    8.45          90.0  93.0                    Data Science\n",
              "294       2190    8.40          94.9  98.0                    Data Science\n",
              "295       2191    7.06          90.6  88.0  Cloud Computing Services (AWS)\n",
              "296       2192    7.50          95.5  95.0  Cloud Computing Services (AWS)\n",
              "\n",
              "[297 rows x 5 columns]"
            ],
            "text/html": [
              "\n",
              "  <div id=\"df-4db6f5e3-4c70-42db-9c33-8775004453dc\">\n",
              "    <div class=\"colab-df-container\">\n",
              "      <div>\n",
              "<style scoped>\n",
              "    .dataframe tbody tr th:only-of-type {\n",
              "        vertical-align: middle;\n",
              "    }\n",
              "\n",
              "    .dataframe tbody tr th {\n",
              "        vertical-align: top;\n",
              "    }\n",
              "\n",
              "    .dataframe thead th {\n",
              "        text-align: right;\n",
              "    }\n",
              "</style>\n",
              "<table border=\"1\" class=\"dataframe\">\n",
              "  <thead>\n",
              "    <tr style=\"text-align: right;\">\n",
              "      <th></th>\n",
              "      <th>StudentNo</th>\n",
              "      <th>DEGREE</th>\n",
              "      <th>INTERMEDIATE</th>\n",
              "      <th>SSC</th>\n",
              "      <th>INTERNSHIP</th>\n",
              "    </tr>\n",
              "  </thead>\n",
              "  <tbody>\n",
              "    <tr>\n",
              "      <th>0</th>\n",
              "      <td>1001</td>\n",
              "      <td>8.10</td>\n",
              "      <td>76.0</td>\n",
              "      <td>92.0</td>\n",
              "      <td>Data Science</td>\n",
              "    </tr>\n",
              "    <tr>\n",
              "      <th>1</th>\n",
              "      <td>1002</td>\n",
              "      <td>8.10</td>\n",
              "      <td>76.0</td>\n",
              "      <td>92.0</td>\n",
              "      <td>MEAN Stack Web Development</td>\n",
              "    </tr>\n",
              "    <tr>\n",
              "      <th>2</th>\n",
              "      <td>1003</td>\n",
              "      <td>7.80</td>\n",
              "      <td>94.6</td>\n",
              "      <td>92.0</td>\n",
              "      <td>MEAN Stack Web Development</td>\n",
              "    </tr>\n",
              "    <tr>\n",
              "      <th>3</th>\n",
              "      <td>1004</td>\n",
              "      <td>9.03</td>\n",
              "      <td>89.5</td>\n",
              "      <td>89.0</td>\n",
              "      <td>Data Science</td>\n",
              "    </tr>\n",
              "    <tr>\n",
              "      <th>4</th>\n",
              "      <td>1005</td>\n",
              "      <td>8.38</td>\n",
              "      <td>87.0</td>\n",
              "      <td>90.0</td>\n",
              "      <td>MEAN Stack Web Development</td>\n",
              "    </tr>\n",
              "    <tr>\n",
              "      <th>...</th>\n",
              "      <td>...</td>\n",
              "      <td>...</td>\n",
              "      <td>...</td>\n",
              "      <td>...</td>\n",
              "      <td>...</td>\n",
              "    </tr>\n",
              "    <tr>\n",
              "      <th>292</th>\n",
              "      <td>2188</td>\n",
              "      <td>8.70</td>\n",
              "      <td>94.1</td>\n",
              "      <td>93.0</td>\n",
              "      <td>Data Science</td>\n",
              "    </tr>\n",
              "    <tr>\n",
              "      <th>293</th>\n",
              "      <td>2189</td>\n",
              "      <td>8.45</td>\n",
              "      <td>90.0</td>\n",
              "      <td>93.0</td>\n",
              "      <td>Data Science</td>\n",
              "    </tr>\n",
              "    <tr>\n",
              "      <th>294</th>\n",
              "      <td>2190</td>\n",
              "      <td>8.40</td>\n",
              "      <td>94.9</td>\n",
              "      <td>98.0</td>\n",
              "      <td>Data Science</td>\n",
              "    </tr>\n",
              "    <tr>\n",
              "      <th>295</th>\n",
              "      <td>2191</td>\n",
              "      <td>7.06</td>\n",
              "      <td>90.6</td>\n",
              "      <td>88.0</td>\n",
              "      <td>Cloud Computing Services (AWS)</td>\n",
              "    </tr>\n",
              "    <tr>\n",
              "      <th>296</th>\n",
              "      <td>2192</td>\n",
              "      <td>7.50</td>\n",
              "      <td>95.5</td>\n",
              "      <td>95.0</td>\n",
              "      <td>Cloud Computing Services (AWS)</td>\n",
              "    </tr>\n",
              "  </tbody>\n",
              "</table>\n",
              "<p>297 rows × 5 columns</p>\n",
              "</div>\n",
              "      <button class=\"colab-df-convert\" onclick=\"convertToInteractive('df-4db6f5e3-4c70-42db-9c33-8775004453dc')\"\n",
              "              title=\"Convert this dataframe to an interactive table.\"\n",
              "              style=\"display:none;\">\n",
              "        \n",
              "  <svg xmlns=\"http://www.w3.org/2000/svg\" height=\"24px\"viewBox=\"0 0 24 24\"\n",
              "       width=\"24px\">\n",
              "    <path d=\"M0 0h24v24H0V0z\" fill=\"none\"/>\n",
              "    <path d=\"M18.56 5.44l.94 2.06.94-2.06 2.06-.94-2.06-.94-.94-2.06-.94 2.06-2.06.94zm-11 1L8.5 8.5l.94-2.06 2.06-.94-2.06-.94L8.5 2.5l-.94 2.06-2.06.94zm10 10l.94 2.06.94-2.06 2.06-.94-2.06-.94-.94-2.06-.94 2.06-2.06.94z\"/><path d=\"M17.41 7.96l-1.37-1.37c-.4-.4-.92-.59-1.43-.59-.52 0-1.04.2-1.43.59L10.3 9.45l-7.72 7.72c-.78.78-.78 2.05 0 2.83L4 21.41c.39.39.9.59 1.41.59.51 0 1.02-.2 1.41-.59l7.78-7.78 2.81-2.81c.8-.78.8-2.07 0-2.86zM5.41 20L4 18.59l7.72-7.72 1.47 1.35L5.41 20z\"/>\n",
              "  </svg>\n",
              "      </button>\n",
              "      \n",
              "  <style>\n",
              "    .colab-df-container {\n",
              "      display:flex;\n",
              "      flex-wrap:wrap;\n",
              "      gap: 12px;\n",
              "    }\n",
              "\n",
              "    .colab-df-convert {\n",
              "      background-color: #E8F0FE;\n",
              "      border: none;\n",
              "      border-radius: 50%;\n",
              "      cursor: pointer;\n",
              "      display: none;\n",
              "      fill: #1967D2;\n",
              "      height: 32px;\n",
              "      padding: 0 0 0 0;\n",
              "      width: 32px;\n",
              "    }\n",
              "\n",
              "    .colab-df-convert:hover {\n",
              "      background-color: #E2EBFA;\n",
              "      box-shadow: 0px 1px 2px rgba(60, 64, 67, 0.3), 0px 1px 3px 1px rgba(60, 64, 67, 0.15);\n",
              "      fill: #174EA6;\n",
              "    }\n",
              "\n",
              "    [theme=dark] .colab-df-convert {\n",
              "      background-color: #3B4455;\n",
              "      fill: #D2E3FC;\n",
              "    }\n",
              "\n",
              "    [theme=dark] .colab-df-convert:hover {\n",
              "      background-color: #434B5C;\n",
              "      box-shadow: 0px 1px 3px 1px rgba(0, 0, 0, 0.15);\n",
              "      filter: drop-shadow(0px 1px 2px rgba(0, 0, 0, 0.3));\n",
              "      fill: #FFFFFF;\n",
              "    }\n",
              "  </style>\n",
              "\n",
              "      <script>\n",
              "        const buttonEl =\n",
              "          document.querySelector('#df-4db6f5e3-4c70-42db-9c33-8775004453dc button.colab-df-convert');\n",
              "        buttonEl.style.display =\n",
              "          google.colab.kernel.accessAllowed ? 'block' : 'none';\n",
              "\n",
              "        async function convertToInteractive(key) {\n",
              "          const element = document.querySelector('#df-4db6f5e3-4c70-42db-9c33-8775004453dc');\n",
              "          const dataTable =\n",
              "            await google.colab.kernel.invokeFunction('convertToInteractive',\n",
              "                                                     [key], {});\n",
              "          if (!dataTable) return;\n",
              "\n",
              "          const docLinkHtml = 'Like what you see? Visit the ' +\n",
              "            '<a target=\"_blank\" href=https://colab.research.google.com/notebooks/data_table.ipynb>data table notebook</a>'\n",
              "            + ' to learn more about interactive tables.';\n",
              "          element.innerHTML = '';\n",
              "          dataTable['output_type'] = 'display_data';\n",
              "          await google.colab.output.renderOutput(dataTable, element);\n",
              "          const docLink = document.createElement('div');\n",
              "          docLink.innerHTML = docLinkHtml;\n",
              "          element.appendChild(docLink);\n",
              "        }\n",
              "      </script>\n",
              "    </div>\n",
              "  </div>\n",
              "  "
            ]
          },
          "metadata": {},
          "execution_count": 2
        }
      ]
    },
    {
      "cell_type": "code",
      "source": [
        "# 1) Identify Variables and their Types (Quantitative or Qualitative)\n",
        "# StudentNo -> Designator Type(Values that are used to identify a individual in the data) \n",
        "# DEGREE,INTERMEDIATE,SSC -> Quantitative Type\n",
        "# INTERNSHIP -> Qualitative Type\n"
      ],
      "metadata": {
        "id": "aqILV4SuSR-o"
      },
      "execution_count": 3,
      "outputs": []
    },
    {
      "cell_type": "code",
      "source": [
        "# 2) Size of Data (No. of Columns and Rows)\n",
        "print(mydata.shape)"
      ],
      "metadata": {
        "colab": {
          "base_uri": "https://localhost:8080/"
        },
        "id": "zaNUkX1nUaJS",
        "outputId": "b4bb5b66-3fd5-4f36-f4c4-06ad9831d017"
      },
      "execution_count": 4,
      "outputs": [
        {
          "output_type": "stream",
          "name": "stdout",
          "text": [
            "(297, 5)\n"
          ]
        }
      ]
    },
    {
      "cell_type": "code",
      "source": [
        "mydata.info() # to know in detail about our data"
      ],
      "metadata": {
        "colab": {
          "base_uri": "https://localhost:8080/"
        },
        "id": "nZnN2Q5UaGiM",
        "outputId": "82e5c894-b0b8-464a-b4ee-fbc32660695d"
      },
      "execution_count": 5,
      "outputs": [
        {
          "output_type": "stream",
          "name": "stdout",
          "text": [
            "<class 'pandas.core.frame.DataFrame'>\n",
            "RangeIndex: 297 entries, 0 to 296\n",
            "Data columns (total 5 columns):\n",
            " #   Column        Non-Null Count  Dtype  \n",
            "---  ------        --------------  -----  \n",
            " 0   StudentNo     297 non-null    int64  \n",
            " 1   DEGREE        297 non-null    float64\n",
            " 2   INTERMEDIATE  297 non-null    float64\n",
            " 3   SSC           297 non-null    float64\n",
            " 4   INTERNSHIP    297 non-null    object \n",
            "dtypes: float64(3), int64(1), object(1)\n",
            "memory usage: 11.7+ KB\n"
          ]
        }
      ]
    },
    {
      "cell_type": "code",
      "source": [
        "# 3) Prepare Histogram for Degree, Inter and 10th Class\n",
        "plt.hist(mydata[\"DEGREE\"])\n",
        "plt.show()"
      ],
      "metadata": {
        "colab": {
          "base_uri": "https://localhost:8080/",
          "height": 265
        },
        "id": "2qFBdLHAWWrf",
        "outputId": "b7b8d5b3-dd1a-422a-c505-6eb25759c0d2"
      },
      "execution_count": 6,
      "outputs": [
        {
          "output_type": "display_data",
          "data": {
            "text/plain": [
              "<Figure size 432x288 with 1 Axes>"
            ],
            "image/png": "[encoded data removed]"
          },
          "metadata": {
            "needs_background": "light"
          }
        }
      ]
    },
    {
      "cell_type": "code",
      "source": [
        "#conclusions from the Histogram(Degree)\n",
        "# 1) There are 2+ interns with least secured percentage in degree which is between 5.8% - 6.2% \n",
        "# 2) The more number of interns secured a percentage in between 7.7% - 8.0% ,which is more than 50 interns.\n",
        "# 3) Highest secured percentage in degree by the interns is between 9.1% - 9.5% ,and there are around 10 of them."
      ],
      "metadata": {
        "id": "0QFQOX4Ja8SV"
      },
      "execution_count": 9,
      "outputs": []
    },
    {
      "cell_type": "code",
      "source": [
        "plt.hist(mydata[\"INTERMEDIATE\"])\n",
        "plt.show()"
      ],
      "metadata": {
        "colab": {
          "base_uri": "https://localhost:8080/",
          "height": 265
        },
        "id": "XKekHnETdov1",
        "outputId": "a213ed31-b962-420f-fd3c-56da4bf1e260"
      },
      "execution_count": 7,
      "outputs": [
        {
          "output_type": "display_data",
          "data": {
            "text/plain": [
              "<Figure size 432x288 with 1 Axes>"
            ],
            "image/png": "[encoded data removed]"
          },
          "metadata": {
            "needs_background": "light"
          }
        }
      ]
    },
    {
      "cell_type": "code",
      "source": [
        "#conclusions from the Histogram(intermediate)\n",
        "# 1) Highest secured percentage in Intermediate by the interns is between 96% - 99% ,and there are around 40 of them.\n",
        "# 2) Most of the interns secured a percentage in between 92% - 96%, i.e 70+ interns.\n",
        "# 3) Least secured percentage by the interns in Intermediate is 65% - 68% and there are around 4 of them."
      ],
      "metadata": {
        "id": "f4lwrXAqd4L8"
      },
      "execution_count": 11,
      "outputs": []
    },
    {
      "cell_type": "code",
      "source": [
        "plt.hist(mydata[\"SSC\"])\n",
        "plt.show()"
      ],
      "metadata": {
        "colab": {
          "base_uri": "https://localhost:8080/",
          "height": 265
        },
        "id": "vRPXFXyTeW1f",
        "outputId": "2d4b7460-4c33-4670-8e28-47c83ee0ac2d"
      },
      "execution_count": 8,
      "outputs": [
        {
          "output_type": "display_data",
          "data": {
            "text/plain": [
              "<Figure size 432x288 with 1 Axes>"
            ],
            "image/png": "[encoded data removed]"
          },
          "metadata": {
            "needs_background": "light"
          }
        }
      ]
    },
    {
      "cell_type": "code",
      "source": [
        "#conclusions from the Histogram(ssc)\n",
        "# 1) Most secured percentage and hightest sercured percentage by interns in ssc is in between 93% - 99% ,and there are around 110 interns.\n",
        "# 2) Least secured percentage is 38% - 44% and there are 2 of them.\n"
      ],
      "metadata": {
        "id": "ffgljdwaen_T"
      },
      "execution_count": 15,
      "outputs": []
    },
    {
      "cell_type": "code",
      "source": [
        "#4) Create Pie-Chart to represent the Enrollments for each Internship Program.\n",
        "my_lables = mydata[\"INTERNSHIP\"].unique()\n",
        "values = mydata.groupby(\"INTERNSHIP\",sort = False).size()\n",
        "plt.pie(values,labels = my_lables)\n",
        "plt.show()"
      ],
      "metadata": {
        "colab": {
          "base_uri": "https://localhost:8080/",
          "height": 248
        },
        "id": "-lojg8Skhsa3",
        "outputId": "5827b7dc-7034-40b5-ea97-004f6f741333"
      },
      "execution_count": 9,
      "outputs": [
        {
          "output_type": "display_data",
          "data": {
            "text/plain": [
              "<Figure size 432x288 with 1 Axes>"
            ],
            "image/png": "[encoded data removed]"
          },
          "metadata": {}
        }
      ]
    },
    {
      "cell_type": "code",
      "source": [
        "# 5)Find No. of Enrollments for each Internship Program\n",
        "print(mydata.groupby(\"INTERNSHIP\").size())"
      ],
      "metadata": {
        "colab": {
          "base_uri": "https://localhost:8080/"
        },
        "id": "M0KGwqlXknG1",
        "outputId": "8ed7cee3-3de2-4b2d-a1ff-133dd90af173"
      },
      "execution_count": 10,
      "outputs": [
        {
          "output_type": "stream",
          "name": "stdout",
          "text": [
            "INTERNSHIP\n",
            "Cloud Computing Services (AWS)     90\n",
            "Data Science                      156\n",
            "MEAN Stack Web Development         51\n",
            "dtype: int64\n"
          ]
        }
      ]
    },
    {
      "cell_type": "code",
      "source": [
        "# 6)Find Measure of Central Tendency: MEAN, MEDIAN, MODE for Degree, Inter and 10th\n",
        "print(\"------------MEAN-------------\")\n",
        "print(mydata.iloc[:,1:4].mean(),\"\\n\")\n",
        "print(\"------------MEDIAN-------------\")\n",
        "print(mydata.iloc[:,1:4].median(),\"\\n\")\n",
        "print(\"------------MODE-------------\")\n",
        "print(mydata.iloc[:,1:4].mode(),\"\\n\")"
      ],
      "metadata": {
        "colab": {
          "base_uri": "https://localhost:8080/"
        },
        "id": "aSPkX6JQayoq",
        "outputId": "9a03b682-46f5-4fef-ce14-4b10144f74ef"
      },
      "execution_count": 11,
      "outputs": [
        {
          "output_type": "stream",
          "name": "stdout",
          "text": [
            "------------MEAN-------------\n",
            "DEGREE           7.928081\n",
            "INTERMEDIATE    88.662626\n",
            "SSC             88.106734\n",
            "dtype: float64 \n",
            "\n",
            "------------MEDIAN-------------\n",
            "DEGREE           8.0\n",
            "INTERMEDIATE    90.8\n",
            "SSC             90.0\n",
            "dtype: float64 \n",
            "\n",
            "------------MODE-------------\n",
            "   DEGREE  INTERMEDIATE   SSC\n",
            "0     7.0          95.0  95.0 \n",
            "\n"
          ]
        }
      ]
    },
    {
      "cell_type": "code",
      "source": [
        "# 7)Find Measure of Variance: Minimum, Maximum, Range, Mean Deviation, Standard Deviation, Co-efficient of Variation for Degree, Inter and 10th\n",
        "print(\"------------MINIMUM-------------\")\n",
        "print(mydata.iloc[:,1:4].min(),'\\n')\n",
        "print(\"------------MAXIMUM-------------\")\n",
        "print(mydata.iloc[:,1:4].max(),'\\n')\n",
        "print(\"------------RANGE-------------\")\n",
        "range = lambda x: max(x) - min(x)\n",
        "print(mydata.iloc[:,1:4].apply(range),'\\n')\n",
        "print(\"--------STANDARD DEVIATION---------\")\n",
        "print(mydata.iloc[:,1:4].std(),'\\n')\n",
        "print(\"-----Co-efficient of Variation------\")\n",
        "cv = lambda x: np.std(x) / np.mean(x)\n",
        "print(mydata.iloc[:,1:4].apply(cv),'\\n')\n",
        "print(\"--------MEAN DEVIATION--------\")\n",
        "sum_d= 0\n",
        "data = mydata[\"DEGREE\"]\n",
        "for x in data:\n",
        "    sum_d+= abs(x-data.median())\n",
        "md_d= sum_d/ len(data)\n",
        "sum_i= 0\n",
        "data1 = mydata[\"INTERMEDIATE\"]\n",
        "for x in data1:\n",
        "    sum_i+= abs(x-data1.median())\n",
        "md_i= sum_i/ len(data1)\n",
        "sum_s= 0\n",
        "data2 = mydata[\"SSC\"]\n",
        "for x in data2:\n",
        "    sum_s+= abs(x-data2.median())\n",
        "md_s= sum_s/ len(data2)\n",
        "\n",
        "print(\"DEGREE          \",md_d)\n",
        "print(\"INTERMEDIATE    \",md_i)\n",
        "print(\"SSC             \",md_s)"
      ],
      "metadata": {
        "colab": {
          "base_uri": "https://localhost:8080/"
        },
        "id": "XjWnJr5qLTvd",
        "outputId": "7c9ac1ce-ad48-4b0c-fcc0-b75292bfb6ba"
      },
      "execution_count": 12,
      "outputs": [
        {
          "output_type": "stream",
          "name": "stdout",
          "text": [
            "------------MINIMUM-------------\n",
            "DEGREE           5.8\n",
            "INTERMEDIATE    65.0\n",
            "SSC             38.4\n",
            "dtype: float64 \n",
            "\n",
            "------------MAXIMUM-------------\n",
            "DEGREE           9.53\n",
            "INTERMEDIATE    99.40\n",
            "SSC             99.00\n",
            "dtype: float64 \n",
            "\n",
            "------------RANGE-------------\n",
            "DEGREE           3.73\n",
            "INTERMEDIATE    34.40\n",
            "SSC             60.60\n",
            "dtype: float64 \n",
            "\n",
            "--------STANDARD DEVIATION---------\n",
            "DEGREE          0.785579\n",
            "INTERMEDIATE    7.355733\n",
            "SSC             9.027984\n",
            "dtype: float64 \n",
            "\n",
            "-----Co-efficient of Variation------\n",
            "DEGREE          0.098921\n",
            "INTERMEDIATE    0.082823\n",
            "SSC             0.102294\n",
            "dtype: float64 \n",
            "\n",
            "--------MEAN DEVIATION--------\n",
            "DEGREE           0.6436363636363637\n",
            "INTERMEDIATE     5.855218855218852\n",
            "SSC              6.303367003367003\n"
          ]
        }
      ]
    },
    {
      "cell_type": "code",
      "source": [
        "# 8) Measures of Position: Standard Scores, Inter-quartile Range for Degree, Inter and 10th\n",
        "print(\"------INTER-QUARTILE RANGE ------\")\n",
        "from scipy import stats\n",
        "iqr = lambda x : stats.iqr(x)\n",
        "print(mydata.iloc[:,1:4].apply(iqr),'\\n')\n",
        "print(\"------ STANDARD SCORES ------\")\n",
        "ss = lambda x : stats.zscore(x)\n",
        "print(mydata.iloc[:,1:4].apply(ss))"
      ],
      "metadata": {
        "colab": {
          "base_uri": "https://localhost:8080/"
        },
        "id": "dJ4QJRMMNqRg",
        "outputId": "f5ca9806-9a12-4d33-b9b1-3eab07fd316f"
      },
      "execution_count": 13,
      "outputs": [
        {
          "output_type": "stream",
          "name": "stdout",
          "text": [
            "------INTER-QUARTILE RANGE ------\n",
            "DEGREE           1.16\n",
            "INTERMEDIATE    11.60\n",
            "SSC             10.00\n",
            "dtype: float64 \n",
            "\n",
            "------ STANDARD SCORES ------\n",
            "       DEGREE  INTERMEDIATE       SSC\n",
            "0    0.219213     -1.724369  0.431972\n",
            "1    0.219213     -1.724369  0.431972\n",
            "2   -0.163315      0.808539  0.431972\n",
            "3    1.405052      0.114032  0.099111\n",
            "4    0.576240     -0.226413  0.210065\n",
            "..        ...           ...       ...\n",
            "292  0.984271      0.740450  0.542926\n",
            "293  0.665497      0.182121  0.542926\n",
            "294  0.601742      0.849392  1.097694\n",
            "295 -1.106886      0.263827 -0.011843\n",
            "296 -0.545844      0.931099  0.764833\n",
            "\n",
            "[297 rows x 3 columns]\n"
          ]
        }
      ]
    },
    {
      "cell_type": "code",
      "source": [
        "# Create Box Plot and Identify Outliers for Degree, Inter and 10th\n",
        "plt.boxplot(mydata[\"DEGREE\"])\n",
        "plt.show()"
      ],
      "metadata": {
        "colab": {
          "base_uri": "https://localhost:8080/",
          "height": 265
        },
        "id": "LkdsnMb992j4",
        "outputId": "60f470cb-5fba-4504-8509-e2e90124e1c3"
      },
      "execution_count": 14,
      "outputs": [
        {
          "output_type": "display_data",
          "data": {
            "text/plain": [
              "<Figure size 432x288 with 1 Axes>"
            ],
            "image/png": "[encoded data removed]"
          },
          "metadata": {
            "needs_background": "light"
          }
        }
      ]
    },
    {
      "cell_type": "code",
      "source": [
        "# No outliers are found"
      ],
      "metadata": {
        "id": "atLzHULK14zM"
      },
      "execution_count": null,
      "outputs": []
    },
    {
      "cell_type": "code",
      "source": [
        "plt.boxplot(mydata[\"INTERMEDIATE\"])\n",
        "plt.show()"
      ],
      "metadata": {
        "colab": {
          "base_uri": "https://localhost:8080/",
          "height": 265
        },
        "id": "3baOsFKknAkw",
        "outputId": "5f397151-8dd9-47cf-9dd3-be0451ca3b61"
      },
      "execution_count": 15,
      "outputs": [
        {
          "output_type": "display_data",
          "data": {
            "text/plain": [
              "<Figure size 432x288 with 1 Axes>"
            ],
            "image/png": "[encoded data removed]"
          },
          "metadata": {
            "needs_background": "light"
          }
        }
      ]
    },
    {
      "cell_type": "code",
      "source": [
        "# One outlier is found "
      ],
      "metadata": {
        "id": "ziYyQW812EYl"
      },
      "execution_count": null,
      "outputs": []
    },
    {
      "cell_type": "code",
      "source": [
        "plt.boxplot(mydata[\"SSC\"])\n",
        "plt.show()"
      ],
      "metadata": {
        "colab": {
          "base_uri": "https://localhost:8080/",
          "height": 265
        },
        "id": "ZAEM5GB6nJJz",
        "outputId": "a4219252-0916-4541-f0e8-7f849cd001d1"
      },
      "execution_count": 16,
      "outputs": [
        {
          "output_type": "display_data",
          "data": {
            "text/plain": [
              "<Figure size 432x288 with 1 Axes>"
            ],
            "image/png": "[encoded data removed]"
          },
          "metadata": {
            "needs_background": "light"
          }
        }
      ]
    },
    {
      "cell_type": "code",
      "source": [
        "# There are many outiler found in the data"
      ],
      "metadata": {
        "id": "5jtKt0bu2JS2"
      },
      "execution_count": null,
      "outputs": []
    },
    {
      "cell_type": "code",
      "source": [
        "# 10) Identify No. of Students with 90% percentile for Degree, Inter and 10th Class\n",
        "val_1= np.percentile(mydata[\"DEGREE\"],90)\n",
        "a = mydata['DEGREE'].tolist()\n",
        "print(\"No.of Students with 90% percentile from DEGREE course is :       \",a.count(val_1))\n",
        "val_2 = np.percentile(mydata[\"INTERMEDIATE\"],90)\n",
        "b = mydata[\"INTERMEDIATE\"].tolist()\n",
        "print(\"No.of Students with 90% percentile from INTERMEDIATE course is : \",b.count(val_2))\n",
        "val_3 = np.percentile(mydata[\"SSC\"],90)\n",
        "c = mydata[\"SSC\"].tolist()\n",
        "print(\"No.of Students with 90% percentile from SSC course is :          \",c.count(val_3))"
      ],
      "metadata": {
        "colab": {
          "base_uri": "https://localhost:8080/"
        },
        "id": "VrEzUM_W2WlA",
        "outputId": "f45d66d5-8594-40cb-a4b7-98cdc2a8de07"
      },
      "execution_count": 65,
      "outputs": [
        {
          "output_type": "stream",
          "name": "stdout",
          "text": [
            "No.of Students with 90% percentile from DEGREE course is :        3\n",
            "No.of Students with 90% percentile from INTERMEDIATE course is :  3\n",
            "No.of Students with 90% percentile from SSC course is :           19\n"
          ]
        }
      ]
    }
  ]
}